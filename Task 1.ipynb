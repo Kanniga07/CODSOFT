{
 "cells": [
  {
   "cell_type": "code",
   "execution_count": 1,
   "id": "a68d060b-afe1-45a7-b51a-2d34db6157b3",
   "metadata": {},
   "outputs": [
    {
     "name": "stdout",
     "output_type": "stream",
     "text": [
      "Chatbot: Hello! I'm a basic chatbot, and I'm here to help!\n"
     ]
    },
    {
     "name": "stdin",
     "output_type": "stream",
     "text": [
      "Me:  hi\n"
     ]
    },
    {
     "name": "stdout",
     "output_type": "stream",
     "text": [
      "Chatbot: Hey there! I am a helpful chatbot available to help you.\n"
     ]
    },
    {
     "name": "stdin",
     "output_type": "stream",
     "text": [
      "Me:  what is your name\n"
     ]
    },
    {
     "name": "stdout",
     "output_type": "stream",
     "text": [
      "Chatbot: I'm just a chatbot, so I don't have a name, but you can call me ChatBot.\n"
     ]
    },
    {
     "name": "stdin",
     "output_type": "stream",
     "text": [
      "Me:  \"do you enjoy listening to music?\n"
     ]
    },
    {
     "name": "stdout",
     "output_type": "stream",
     "text": [
      "Chatbot: I apologize for not understanding it. Would you mind changing your sentence?\n"
     ]
    },
    {
     "name": "stdin",
     "output_type": "stream",
     "text": [
      "Me:  bye\n"
     ]
    },
    {
     "name": "stdout",
     "output_type": "stream",
     "text": [
      "Chatbot: Farewell! Enjoy your wonderful day!\n"
     ]
    }
   ],
   "source": [
    "\n",
    "data = {\n",
    "    \"hi\": \"Hey there! I am a helpful chatbot available to help you.\",\n",
    "    \"hello\": \"Hey there! In what way may I assist you today?\",\n",
    "    \"what is your name\": \"I'm just a chatbot, so I don't have a name, but you can call me ChatBot.\",\n",
    "    \"where are you from\": \"I'm from the digital world, always ready to chat!\",\n",
    "    \"how are you\": \"I'm just a chatbot, but I'm here to assist you.\",\n",
    "    \"do you have any hobbies or interests?\": \"I'm always busy helping users, so my hobby is chatting with people like you!\",\n",
    "    \"what did you eat today\": \"I don't eat, but I can help you find delicious recipes and food-related information.\",\n",
    "    \"what is your favorite color?\": \"I'm a chatbot, so I don't have personal preferences for colors.\",\n",
    "    \"do you enjoy listening to music?\": \"I can't listen to music, but I'm here to chat about it!\",\n",
    "    \"bye\": \"Goodbye! Have a wonderful day and be careful\"\n",
    "}\n",
    "\n",
    "def get_response(user_input):\n",
    "    user_input = user_input.lower()\n",
    "\n",
    "    if user_input == \"hi\":\n",
    "        return data[\"hi\"]\n",
    "    elif user_input == \"hello\":\n",
    "        return data[\"hello\"]\n",
    "    elif user_input == \"what is your name\":\n",
    "        return data[\"what is your name\"]\n",
    "    elif user_input == \"where are you from\":\n",
    "        return data[\"where are you from\"]\n",
    "    elif user_input == \"how are you\":\n",
    "        return data[\"how are you\"]\n",
    "    elif user_input == \"do you have any hobbies or interests?\":\n",
    "        return data[\"do you have any hobbies or interests?\"]\n",
    "    elif user_input == \"what did you eat today\":\n",
    "        return data[\"what did you eat today\"]\n",
    "    elif user_input == \"what is your favorite color?\":\n",
    "        return data[\"what is your favorite color?\"]\n",
    "    elif user_input == \"do you enjoy listening to music?\":\n",
    "        return data[\"do you enjoy listening to music?\"]\n",
    "    elif user_input == \"bye\":\n",
    "        return data[\"bye\"]\n",
    "    else:\n",
    "        return \"I apologize for not understanding it. Would you mind changing your sentence?\"\n",
    "\n",
    "print(\"Chatbot: Hello! I'm a basic chatbot, and I'm here to help!\")\n",
    "\n",
    "while True:\n",
    "    user_input = input(\"Me: \")\n",
    "    if user_input.lower() == \"bye\":\n",
    "        print(\"Chatbot: Farewell! Enjoy your wonderful day!\")\n",
    "        break\n",
    "    response = get_response(user_input)\n",
    "    print(\"Chatbot:\", response)\n"
   ]
  },
  {
   "cell_type": "code",
   "execution_count": null,
   "id": "7a22f466-089f-4a71-baf1-78cf6fab1fb3",
   "metadata": {},
   "outputs": [],
   "source": []
  }
 ],
 "metadata": {
  "kernelspec": {
   "display_name": "Python 3 (ipykernel)",
   "language": "python",
   "name": "python3"
  },
  "language_info": {
   "codemirror_mode": {
    "name": "ipython",
    "version": 3
   },
   "file_extension": ".py",
   "mimetype": "text/x-python",
   "name": "python",
   "nbconvert_exporter": "python",
   "pygments_lexer": "ipython3",
   "version": "3.11.7"
  }
 },
 "nbformat": 4,
 "nbformat_minor": 5
}
